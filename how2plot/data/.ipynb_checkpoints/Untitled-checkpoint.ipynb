{
 "cells": [
  {
   "cell_type": "code",
   "execution_count": 1,
   "metadata": {},
   "outputs": [],
   "source": [
    "import numpy as np\n",
    "import matplotlib.pyplot as plt"
   ]
  },
  {
   "cell_type": "code",
   "execution_count": 119,
   "metadata": {},
   "outputs": [],
   "source": [
    "def generate_grid( min, max, num ):\n",
    "    \n",
    "    cell_borders = np.linspace(min,max,num)\n",
    "    \n",
    "    def pos_in_grid(val):\n",
    "        pos = sum( [1 if x <= val else 0 for x in cell_borders[1:-1] ] )\n",
    "        return pos\n",
    "    \n",
    "    return pos_in_grid\n",
    "\n",
    "\n",
    "def data_2_grid( filename,x_min, x_max, y_min, y_max, res_x, res_y ):\n",
    "\n",
    "    with open(filename, \"r\") as fp:\n",
    "        x_data, y_data = np.loadtxt(fp, delimiter=' ', usecols=(0,1), unpack = True)\n",
    "\n",
    "    pos_in_x_grid = generate_grid(x_min, x_max, res_x+1)\n",
    "    pos_in_y_grid = generate_grid(y_min, y_max, res_y+1)\n",
    "\n",
    "    grid = np.zeros((res_x, res_y))\n",
    "\n",
    "    for x,y in zip(x_data, y_data):\n",
    "        j = pos_in_x_grid(x)\n",
    "        i = pos_in_y_grid(y)\n",
    "        \n",
    "        grid[i][j] += 1\n",
    "\n",
    "    return grid"
   ]
  },
  {
   "cell_type": "code",
   "execution_count": null,
   "metadata": {
    "scrolled": true
   },
   "outputs": [],
   "source": []
  },
  {
   "cell_type": "code",
   "execution_count": null,
   "metadata": {},
   "outputs": [],
   "source": []
  },
  {
   "cell_type": "code",
   "execution_count": null,
   "metadata": {},
   "outputs": [],
   "source": []
  },
  {
   "cell_type": "code",
   "execution_count": 120,
   "metadata": {},
   "outputs": [],
   "source": [
    "with open(\"example_001.csv\",\"r\") as fp:\n",
    "\tx_data, y_data = np.loadtxt(fp, delimiter=' ', usecols=(0,1), unpack = True)"
   ]
  },
  {
   "cell_type": "code",
   "execution_count": 121,
   "metadata": {},
   "outputs": [
    {
     "data": {
      "text/plain": [
       "<matplotlib.collections.PathCollection at 0x7fea1e527250>"
      ]
     },
     "execution_count": 121,
     "metadata": {},
     "output_type": "execute_result"
    },
    {
     "data": {
      "image/png": "[encoded data removed]",
      "text/plain": [
       "<Figure size 432x288 with 1 Axes>"
      ]
     },
     "metadata": {
      "needs_background": "light"
     },
     "output_type": "display_data"
    }
   ],
   "source": [
    "plt.scatter(x_data, y_data, marker = 'o')"
   ]
  },
  {
   "cell_type": "code",
   "execution_count": 122,
   "metadata": {},
   "outputs": [
    {
     "data": {
      "image/png": "[encoded data removed]",
      "text/plain": [
       "<Figure size 432x288 with 1 Axes>"
      ]
     },
     "metadata": {
      "needs_background": "light"
     },
     "output_type": "display_data"
    }
   ],
   "source": [
    "grid = data_2_grid(\"example_001.csv\",0,1,0,1,15,15)\n",
    "\n",
    "fig, ax = plt.subplots()\n",
    "ax.set_axis_off()\n",
    "ax.imshow(grid, origin='lower')\n",
    "ax.margins(0,0)\n",
    "\n",
    "\n",
    "fig.savefig(\"myfig.png\", format=\"png\", bbox_inches='tight')"
   ]
  },
  {
   "cell_type": "code",
   "execution_count": 137,
   "metadata": {
    "scrolled": false
   },
   "outputs": [
    {
     "name": "stdout",
     "output_type": "stream",
     "text": [
      "69.0\n",
      "0.0\n"
     ]
    },
    {
     "data": {
      "image/png": "[encoded data removed]",
      "text/plain": [
       "<Figure size 144x144 with 1 Axes>"
      ]
     },
     "metadata": {
      "needs_background": "light"
     },
     "output_type": "display_data"
    }
   ],
   "source": [
    "grid = data_2_grid(\"example_001.csv\",0,1,0,1,10,10)\n",
    "\n",
    "print(np.max(grid))\n",
    "print(np.min(grid))\n",
    "\n",
    "fig = plt.figure(frameon = False)\n",
    "fig.set_size_inches(2,2)\n",
    "ax = plt.Axes(fig, [0,0,1,1])\n",
    "ax.set_axis_off()\n",
    "fig.add_axes(ax)\n",
    "ax.imshow(grid,  origin='lower')\n",
    "fig.savefig(\"heatmap.png\")"
   ]
  },
  {
   "cell_type": "code",
   "execution_count": 132,
   "metadata": {},
   "outputs": [],
   "source": [
    "grid = [ [ 0 if val == 0 else np.log(val)  for val in row ]    for row in grid ]"
   ]
  },
  {
   "cell_type": "code",
   "execution_count": 133,
   "metadata": {},
   "outputs": [
    {
     "data": {
      "image/png": "[encoded data removed]",
      "text/plain": [
       "<Figure size 144x144 with 1 Axes>"
      ]
     },
     "metadata": {
      "needs_background": "light"
     },
     "output_type": "display_data"
    }
   ],
   "source": [
    "fig = plt.figure(frameon = False)\n",
    "fig.set_size_inches(2,2)\n",
    "ax = plt.Axes(fig, [0,0,1,1])\n",
    "ax.set_axis_off()\n",
    "fig.add_axes(ax)\n",
    "ax.imshow(grid,  origin='lower')\n",
    "fig.savefig(\"heatmap_log.png\")"
   ]
  },
  {
   "cell_type": "code",
   "execution_count": 101,
   "metadata": {},
   "outputs": [
    {
     "data": {
      "text/plain": [
       "1.42"
      ]
     },
     "execution_count": 101,
     "metadata": {},
     "output_type": "execute_result"
    }
   ],
   "source": [
    "np.max(y_data)"
   ]
  },
  {
   "cell_type": "code",
   "execution_count": null,
   "metadata": {},
   "outputs": [],
   "source": []
  },
  {
   "cell_type": "code",
   "execution_count": null,
   "metadata": {},
   "outputs": [],
   "source": []
  }
 ],
 "metadata": {
  "kernelspec": {
   "display_name": "Python 2",
   "language": "python",
   "name": "python2"
  },
  "language_info": {
   "codemirror_mode": {
    "name": "ipython",
    "version": 2
   },
   "file_extension": ".py",
   "mimetype": "text/x-python",
   "name": "python",
   "nbconvert_exporter": "python",
   "pygments_lexer": "ipython2",
   "version": "2.7.17"
  }
 },
 "nbformat": 4,
 "nbformat_minor": 2
}
